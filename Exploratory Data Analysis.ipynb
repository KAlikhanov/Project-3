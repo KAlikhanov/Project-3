{
 "cells": [
  {
   "cell_type": "code",
   "execution_count": 1,
   "id": "0bf769a5",
   "metadata": {},
   "outputs": [],
   "source": [
    "import pandas as pd\n",
    "import seaborn as sns\n",
    "import matplotlib.pyplot as plt"
   ]
  },
  {
   "cell_type": "code",
   "execution_count": 3,
   "id": "a50152ed",
   "metadata": {},
   "outputs": [],
   "source": [
    "final_2000_df = pd.read_csv('Data/final_tmdb_data_2000.csv.gz')\n",
    "final_2001_df = pd.read_csv('Data/final_tmdb_data_2001.csv.gz')\n",
    "final_df = pd.concat([final_2000_df, final_2001_df], ignore_index = True)"
   ]
  },
  {
   "cell_type": "code",
   "execution_count": 4,
   "id": "72354ae5",
   "metadata": {},
   "outputs": [
    {
     "name": "stdout",
     "output_type": "stream",
     "text": [
      "<class 'pandas.core.frame.DataFrame'>\n",
      "RangeIndex: 2498 entries, 0 to 2497\n",
      "Data columns (total 26 columns):\n",
      " #   Column                 Non-Null Count  Dtype  \n",
      "---  ------                 --------------  -----  \n",
      " 0   imdb_id                2498 non-null   object \n",
      " 1   adult                  2496 non-null   float64\n",
      " 2   backdrop_path          1308 non-null   object \n",
      " 3   belongs_to_collection  195 non-null    object \n",
      " 4   budget                 2496 non-null   float64\n",
      " 5   genres                 2496 non-null   object \n",
      " 6   homepage               175 non-null    object \n",
      " 7   id                     2496 non-null   float64\n",
      " 8   original_language      2496 non-null   object \n",
      " 9   original_title         2496 non-null   object \n",
      " 10  overview               2446 non-null   object \n",
      " 11  popularity             2496 non-null   float64\n",
      " 12  poster_path            2214 non-null   object \n",
      " 13  production_companies   2496 non-null   object \n",
      " 14  production_countries   2496 non-null   object \n",
      " 15  release_date           2480 non-null   object \n",
      " 16  revenue                2496 non-null   float64\n",
      " 17  runtime                2496 non-null   float64\n",
      " 18  spoken_languages       2496 non-null   object \n",
      " 19  status                 2496 non-null   object \n",
      " 20  tagline                1048 non-null   object \n",
      " 21  title                  2496 non-null   object \n",
      " 22  video                  2496 non-null   float64\n",
      " 23  vote_average           2496 non-null   float64\n",
      " 24  vote_count             2496 non-null   float64\n",
      " 25  certification          797 non-null    object \n",
      "dtypes: float64(9), object(17)\n",
      "memory usage: 507.5+ KB\n"
     ]
    }
   ],
   "source": [
    "final_df.info()"
   ]
  },
  {
   "cell_type": "code",
   "execution_count": 12,
   "id": "299557cb",
   "metadata": {},
   "outputs": [
    {
     "data": {
      "text/plain": [
       "623"
      ]
     },
     "execution_count": 12,
     "metadata": {},
     "output_type": "execute_result"
    }
   ],
   "source": [
    "valid_finance_df = final_df.loc[(final_df['budget'] > 0) | (final_df['revenue'] > 0)]\n",
    "valid_finance_df.shape[0]"
   ]
  },
  {
   "cell_type": "code",
   "execution_count": 14,
   "id": "447bf1b6",
   "metadata": {},
   "outputs": [
    {
     "data": {
      "text/plain": [
       "R          452\n",
       "PG-13      181\n",
       "NR          68\n",
       "PG          64\n",
       "G           24\n",
       "NC-17        6\n",
       "Unrated      1\n",
       "-            1\n",
       "Name: certification, dtype: int64"
      ]
     },
     "execution_count": 14,
     "metadata": {},
     "output_type": "execute_result"
    }
   ],
   "source": [
    "final_df['certification'].value_counts()"
   ]
  },
  {
   "cell_type": "code",
   "execution_count": 24,
   "id": "f4cbaeb8",
   "metadata": {},
   "outputs": [
    {
     "data": {
      "text/html": [
       "<div>\n",
       "<style scoped>\n",
       "    .dataframe tbody tr th:only-of-type {\n",
       "        vertical-align: middle;\n",
       "    }\n",
       "\n",
       "    .dataframe tbody tr th {\n",
       "        vertical-align: top;\n",
       "    }\n",
       "\n",
       "    .dataframe thead th {\n",
       "        text-align: right;\n",
       "    }\n",
       "</style>\n",
       "<table border=\"1\" class=\"dataframe\">\n",
       "  <thead>\n",
       "    <tr style=\"text-align: right;\">\n",
       "      <th></th>\n",
       "      <th>adult</th>\n",
       "      <th>budget</th>\n",
       "      <th>id</th>\n",
       "      <th>popularity</th>\n",
       "      <th>revenue</th>\n",
       "      <th>runtime</th>\n",
       "      <th>video</th>\n",
       "      <th>vote_average</th>\n",
       "      <th>vote_count</th>\n",
       "    </tr>\n",
       "    <tr>\n",
       "      <th>certification</th>\n",
       "      <th></th>\n",
       "      <th></th>\n",
       "      <th></th>\n",
       "      <th></th>\n",
       "      <th></th>\n",
       "      <th></th>\n",
       "      <th></th>\n",
       "      <th></th>\n",
       "      <th></th>\n",
       "    </tr>\n",
       "  </thead>\n",
       "  <tbody>\n",
       "    <tr>\n",
       "      <th>-</th>\n",
       "      <td>0.0</td>\n",
       "      <td>0.00</td>\n",
       "      <td>172550.00</td>\n",
       "      <td>0.87</td>\n",
       "      <td>0.00</td>\n",
       "      <td>90.00</td>\n",
       "      <td>0.00</td>\n",
       "      <td>5.00</td>\n",
       "      <td>7.00</td>\n",
       "    </tr>\n",
       "    <tr>\n",
       "      <th>G</th>\n",
       "      <td>0.0</td>\n",
       "      <td>23833333.33</td>\n",
       "      <td>55619.58</td>\n",
       "      <td>30.96</td>\n",
       "      <td>72163319.33</td>\n",
       "      <td>80.29</td>\n",
       "      <td>0.04</td>\n",
       "      <td>6.08</td>\n",
       "      <td>1444.96</td>\n",
       "    </tr>\n",
       "    <tr>\n",
       "      <th>NC-17</th>\n",
       "      <td>0.5</td>\n",
       "      <td>0.00</td>\n",
       "      <td>238414.50</td>\n",
       "      <td>1.62</td>\n",
       "      <td>0.00</td>\n",
       "      <td>42.17</td>\n",
       "      <td>0.00</td>\n",
       "      <td>5.47</td>\n",
       "      <td>3.17</td>\n",
       "    </tr>\n",
       "    <tr>\n",
       "      <th>NR</th>\n",
       "      <td>0.0</td>\n",
       "      <td>1575001.38</td>\n",
       "      <td>250030.16</td>\n",
       "      <td>5.77</td>\n",
       "      <td>2221904.72</td>\n",
       "      <td>91.65</td>\n",
       "      <td>0.00</td>\n",
       "      <td>4.18</td>\n",
       "      <td>127.62</td>\n",
       "    </tr>\n",
       "    <tr>\n",
       "      <th>PG</th>\n",
       "      <td>0.0</td>\n",
       "      <td>24597656.39</td>\n",
       "      <td>45788.62</td>\n",
       "      <td>27.28</td>\n",
       "      <td>61435347.16</td>\n",
       "      <td>99.89</td>\n",
       "      <td>0.00</td>\n",
       "      <td>6.08</td>\n",
       "      <td>1393.00</td>\n",
       "    </tr>\n",
       "    <tr>\n",
       "      <th>PG-13</th>\n",
       "      <td>0.0</td>\n",
       "      <td>31231535.51</td>\n",
       "      <td>42255.77</td>\n",
       "      <td>17.89</td>\n",
       "      <td>71842275.04</td>\n",
       "      <td>105.03</td>\n",
       "      <td>0.00</td>\n",
       "      <td>5.86</td>\n",
       "      <td>1278.95</td>\n",
       "    </tr>\n",
       "    <tr>\n",
       "      <th>R</th>\n",
       "      <td>0.0</td>\n",
       "      <td>9963505.42</td>\n",
       "      <td>63244.83</td>\n",
       "      <td>11.70</td>\n",
       "      <td>16756125.06</td>\n",
       "      <td>100.43</td>\n",
       "      <td>0.00</td>\n",
       "      <td>5.35</td>\n",
       "      <td>502.72</td>\n",
       "    </tr>\n",
       "    <tr>\n",
       "      <th>Unrated</th>\n",
       "      <td>0.0</td>\n",
       "      <td>0.00</td>\n",
       "      <td>169801.00</td>\n",
       "      <td>2.78</td>\n",
       "      <td>0.00</td>\n",
       "      <td>88.00</td>\n",
       "      <td>0.00</td>\n",
       "      <td>6.70</td>\n",
       "      <td>3.00</td>\n",
       "    </tr>\n",
       "  </tbody>\n",
       "</table>\n",
       "</div>"
      ],
      "text/plain": [
       "               adult       budget         id  popularity      revenue  \\\n",
       "certification                                                           \n",
       "-                0.0         0.00  172550.00        0.87         0.00   \n",
       "G                0.0  23833333.33   55619.58       30.96  72163319.33   \n",
       "NC-17            0.5         0.00  238414.50        1.62         0.00   \n",
       "NR               0.0   1575001.38  250030.16        5.77   2221904.72   \n",
       "PG               0.0  24597656.39   45788.62       27.28  61435347.16   \n",
       "PG-13            0.0  31231535.51   42255.77       17.89  71842275.04   \n",
       "R                0.0   9963505.42   63244.83       11.70  16756125.06   \n",
       "Unrated          0.0         0.00  169801.00        2.78         0.00   \n",
       "\n",
       "               runtime  video  vote_average  vote_count  \n",
       "certification                                            \n",
       "-                90.00   0.00          5.00        7.00  \n",
       "G                80.29   0.04          6.08     1444.96  \n",
       "NC-17            42.17   0.00          5.47        3.17  \n",
       "NR               91.65   0.00          4.18      127.62  \n",
       "PG               99.89   0.00          6.08     1393.00  \n",
       "PG-13           105.03   0.00          5.86     1278.95  \n",
       "R               100.43   0.00          5.35      502.72  \n",
       "Unrated          88.00   0.00          6.70        3.00  "
      ]
     },
     "execution_count": 24,
     "metadata": {},
     "output_type": "execute_result"
    }
   ],
   "source": [
    "final_df.groupby(['certification']).mean().round(2)"
   ]
  },
  {
   "cell_type": "code",
   "execution_count": 26,
   "id": "f6217fae",
   "metadata": {},
   "outputs": [],
   "source": [
    "final_df.to_csv(f\"Data/tmdb_results_combined.csv.gz\", compression=\"gzip\", index=False)"
   ]
  }
 ],
 "metadata": {
  "kernelspec": {
   "display_name": "Python (dojo-env)",
   "language": "python",
   "name": "dojo-env"
  },
  "language_info": {
   "codemirror_mode": {
    "name": "ipython",
    "version": 3
   },
   "file_extension": ".py",
   "mimetype": "text/x-python",
   "name": "python",
   "nbconvert_exporter": "python",
   "pygments_lexer": "ipython3",
   "version": "3.8.13"
  },
  "toc": {
   "base_numbering": 1,
   "nav_menu": {},
   "number_sections": false,
   "sideBar": true,
   "skip_h1_title": false,
   "title_cell": "Table of Contents",
   "title_sidebar": "Contents",
   "toc_cell": false,
   "toc_position": {},
   "toc_section_display": true,
   "toc_window_display": false
  }
 },
 "nbformat": 4,
 "nbformat_minor": 5
}
